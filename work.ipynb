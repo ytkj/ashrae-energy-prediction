{
 "cells": [
  {
   "cell_type": "code",
   "execution_count": 1,
   "metadata": {},
   "outputs": [],
   "source": [
    "from datetime import datetime\n",
    "from typing import List, Tuple, Dict"
   ]
  },
  {
   "cell_type": "code",
   "execution_count": 2,
   "metadata": {},
   "outputs": [],
   "source": [
    "import pandas as pd\n",
    "import numpy as np\n",
    "import seaborn as sns\n",
    "from matplotlib import pyplot as plt\n",
    "import xgboost as xgb\n",
    "from sklearn.ensemble import RandomForestRegressor\n",
    "from sklearn.model_selection import train_test_split\n",
    "from sklearn.metrics import mean_squared_error\n",
    "import joblib\n",
    "import mlflow\n",
    "\n",
    "sns.set_style('whitegrid')"
   ]
  },
  {
   "cell_type": "code",
   "execution_count": 3,
   "metadata": {},
   "outputs": [],
   "source": [
    "train = pd.read_csv('data/train.csv', parse_dates=['timestamp'])\n",
    "test = pd.read_csv('data/test.csv')\n",
    "building_metadata = pd.read_csv('data/building_metadata.csv')\n",
    "weather_train = pd.read_csv('data/weather_train.csv', parse_dates=['timestamp'])\n",
    "weather_test = pd.read_csv('data/weather_test.csv', parse_dates=['timestamp'])"
   ]
  },
  {
   "cell_type": "code",
   "execution_count": 4,
   "metadata": {},
   "outputs": [],
   "source": [
    "meters = {\n",
    "    0: 'electricity',\n",
    "    1: 'chilledwater',\n",
    "    2: 'steam',\n",
    "    3: 'hotwater',\n",
    "}"
   ]
  },
  {
   "cell_type": "code",
   "execution_count": 5,
   "metadata": {},
   "outputs": [],
   "source": [
    "def filter_by(df: pd.DataFrame, **kwargs) -> pd.DataFrame:\n",
    "    df_out = df\n",
    "    for key, value in kwargs.items():\n",
    "        if type(value) is list:\n",
    "            df_out = df_out[df_out[key].isin(value)]\n",
    "        else:\n",
    "            df_out = df_out[df_out[key] == value]\n",
    "    return df_out"
   ]
  },
  {
   "cell_type": "code",
   "execution_count": 6,
   "metadata": {},
   "outputs": [],
   "source": [
    "def join_building_meta(df: pd.DataFrame, metadata: pd.DataFrame) -> pd.DataFrame:\n",
    "    return df.merge(\n",
    "        metadata,\n",
    "        on=\"building_id\",\n",
    "        how='left',\n",
    "    )\n",
    "\n",
    "def join_weather(df: pd.DataFrame, weather: pd.DataFrame) -> pd.DataFrame:\n",
    "    return df.merge(\n",
    "        weather,\n",
    "        on=['site_id', 'timestamp'],\n",
    "        how='left',\n",
    "    )"
   ]
  },
  {
   "cell_type": "code",
   "execution_count": 7,
   "metadata": {},
   "outputs": [],
   "source": [
    "def filler_factory(metadata: pd.DataFrame):\n",
    "    columns = ['year_built', 'floor_count']\n",
    "    df_mean_pu_si = metadata.groupby(['primary_use', 'site_id'])[columns].mean()\n",
    "    df_mean_pu = metadata.groupby('primary_use')[columns].mean()\n",
    "    df_mean_si = metadata.groupby('site_id')[columns].mean()\n",
    "    df_mean = metadata[columns].mean()\n",
    "    \n",
    "    def filler(site_id: int, primary_use: str, target: str) -> float:\n",
    "        mean_pu_si = df_mean_pu_si.loc[(primary_use, site_id), target]\n",
    "        if not np.isnan(mean_pu_si):\n",
    "            return mean_pu_si\n",
    "        mean_pu = df_mean_pu.loc[primary_use, target]\n",
    "        if not np.isnan(mean_pu):\n",
    "            return mean_pu\n",
    "        mean_si = df_mean_si.loc[site_id, target]\n",
    "        if not np.isnan(mean_si):\n",
    "            return mean_is\n",
    "        else:\n",
    "            return df_mean[target]\n",
    "    \n",
    "    return filler\n",
    "\n",
    "def fix_nan_building_meta(df: pd.DataFrame) -> pd.DataFrame:\n",
    "\n",
    "    filler = filler_factory(df)\n",
    "    \n",
    "    def fillna(row):\n",
    "        yb = filler(row['site_id'], row['primary_use'], 'year_built')\n",
    "        fc = filler(row['site_id'], row['primary_use'], 'floor_count')\n",
    "        return pd.Series([yb, fc], index=['year_built', 'floor_count'])\n",
    "    \n",
    "    df_out = df.copy()\n",
    "    df_out.loc[:, ['year_built', 'floor_count']] = df.apply(fillna, axis=1)\n",
    "    \n",
    "    return df_out"
   ]
  },
  {
   "cell_type": "code",
   "execution_count": 8,
   "metadata": {},
   "outputs": [],
   "source": [
    "def fix_nan_weather(w: pd.DataFrame) -> pd.DataFrame:\n",
    "    \n",
    "    # add missing datetime\n",
    "    # fill nan forward and backward for each site\n",
    "    dt_min, dt_max = w['timestamp'].min(), w['timestamp'].max()\n",
    "    empty_df = pd.DataFrame({'timestamp': pd.date_range(start=dt_min, end=dt_max, freq='H')})\n",
    "    w_tmp = pd.concat([\n",
    "        ws.merge(empty_df, on='timestamp', how='outer') \\\n",
    "            .sort_values(by='timestamp') \\\n",
    "            .fillna(method='bfill') \\\n",
    "            .fillna(method='ffill') \\\n",
    "        for site_id, ws in w.groupby('site_id')\n",
    "    ], ignore_index=True)\n",
    "    \n",
    "    # fill nan by mean over all sites\n",
    "    w_mean = w_tmp.groupby('timestamp').mean().drop(columns=['site_id']).reset_index()\n",
    "    w_mean = w_tmp.loc[:, ['site_id', 'timestamp']].merge(w_mean, on='timestamp', how='left')\n",
    "    return w_tmp.where(~w_tmp.isnull(), w_mean)"
   ]
  },
  {
   "cell_type": "code",
   "execution_count": 9,
   "metadata": {},
   "outputs": [],
   "source": [
    "def add_features(df_in: pd.DataFrame) -> pd.DataFrame:\n",
    "    \n",
    "    df = df_in.copy()\n",
    "    \n",
    "    # timestamp\n",
    "    ts = pd.to_datetime(df['timestamp'])\n",
    "    df['week'] = ts.dt.week\n",
    "    df['weekend'] = ts.dt.weekday >= 5\n",
    "    df['time_period_0-6'] = (ts.dt.hour >= 0) & (ts.dt.hour < 6)\n",
    "    df['time_period_6-12'] = (ts.dt.hour >= 6) & (ts.dt.hour < 12)\n",
    "    df['time_period_12-18'] = (ts.dt.hour >= 12) & (ts.dt.hour < 18)\n",
    "    \n",
    "    # wind direction\n",
    "    df['wind_direction_cosine'] = np.cos(np.radians(df['wind_direction']))\n",
    "    \n",
    "    # meter\n",
    "    df['meter_category'] = df['meter'].map(meters)\n",
    "    \n",
    "    # categorycal\n",
    "    df = pd.concat([\n",
    "        df,\n",
    "        pd.get_dummies(df['primary_use'], drop_first=True),\n",
    "        pd.get_dummies(df['meter_category'], drop_first=True)\n",
    "    ], axis=1)\n",
    "    \n",
    "    # drop columns\n",
    "    df = df.drop(columns=[\n",
    "        'building_id', 'meter', 'timestamp', 'site_id', 'primary_use',\n",
    "        'meter_category', 'wind_direction'\n",
    "    ])\n",
    "    \n",
    "    return df\n"
   ]
  },
  {
   "cell_type": "code",
   "execution_count": 10,
   "metadata": {},
   "outputs": [],
   "source": [
    "first_train = train \\\n",
    "    .pipe(join_building_meta, metadata=building_metadata.pipe(fix_nan_building_meta)) \\\n",
    "    .pipe(join_weather, weather=weather_train.pipe(fix_nan_weather)) \\\n",
    "    .pipe(add_features)"
   ]
  },
  {
   "cell_type": "code",
   "execution_count": 13,
   "metadata": {},
   "outputs": [],
   "source": [
    "def foldout(ds: pd.DataFrame, options: Dict = None):\n",
    "    \n",
    "    if options is None:\n",
    "        options = {}\n",
    "    \n",
    "    y = np.log1p(ds['meter_reading'])\n",
    "    X = ds.iloc[:, 1:].values\n",
    "    \n",
    "    X_train, X_val, y_train, y_val = train_test_split(X, y, test_size=0.2)\n",
    "    \n",
    "    default_options = dict(\n",
    "        n_estimators=10,\n",
    "        max_depth=None,\n",
    "        min_samples_split=2,\n",
    "        min_samples_leaf=1,\n",
    "        min_weight_fraction_leaf=0,\n",
    "        max_features='auto',\n",
    "        max_leaf_nodes=None,\n",
    "        min_impurity_decrease=0,\n",
    "    )\n",
    "    kwargs = {**default_options, **options}\n",
    "    \n",
    "    model = RandomForestRegressor(**kwargs, verbose=1)\n",
    "    \n",
    "    with mlflow.start_run(experiment_id='1') as run:\n",
    "        \n",
    "        mlflow.log_params(kwargs)\n",
    "\n",
    "        model.fit(X_train, y_train)\n",
    "\n",
    "        y_pred_train = model.predict(X_train)\n",
    "        y_pred_val = model.predict(X_val)\n",
    "\n",
    "        mse_train = mean_squared_error(y_pred_train, y_train)\n",
    "        mse_val = mean_squared_error(y_pred_val, y_val)\n",
    "\n",
    "        np.save('out/y_true.npy', y_val)\n",
    "        np.save('out/y_pred.npy', y_pred_val)\n",
    "        joblib.dump(model, 'out/model.sav')\n",
    "\n",
    "        mlflow.log_metrics(dict(\n",
    "            mse_train=mse_train,\n",
    "            mse_val=mse_val\n",
    "        ))\n",
    "        mlflow.log_artifacts('./out')\n",
    "        mlflow.end_run()\n",
    "    \n",
    "    return mse_train, mse_val, model"
   ]
  },
  {
   "cell_type": "code",
   "execution_count": null,
   "metadata": {},
   "outputs": [
    {
     "name": "stderr",
     "output_type": "stream",
     "text": [
      "2019/11/09 22:09:59 WARNING mlflow.tracking.context.git_context: Failed to import Git (the Git executable is probably not on your PATH), so Git SHA is not available. Error: Failed to initialize: Cmd('git') failed due to: exit code(1)\n",
      "  cmdline: git version\n",
      "  stderr: 'xcrun: error: invalid active developer path (/Library/Developer/CommandLineTools), missing xcrun at: /Library/Developer/CommandLineTools/usr/bin/xcrun'\n"
     ]
    }
   ],
   "source": [
    "%%time\n",
    "\n",
    "mse_train, mse_val, model = foldout(first_train)"
   ]
  }
 ],
 "metadata": {
  "file_extension": ".py",
  "kernelspec": {
   "display_name": "Python 3",
   "language": "python",
   "name": "python3"
  },
  "language_info": {
   "codemirror_mode": {
    "name": "ipython",
    "version": 3
   },
   "file_extension": ".py",
   "mimetype": "text/x-python",
   "name": "python",
   "nbconvert_exporter": "python",
   "pygments_lexer": "ipython3",
   "version": "3.7.5"
  },
  "mimetype": "text/x-python",
  "name": "python",
  "npconvert_exporter": "python",
  "pygments_lexer": "ipython3",
  "version": 3
 },
 "nbformat": 4,
 "nbformat_minor": 4
}
