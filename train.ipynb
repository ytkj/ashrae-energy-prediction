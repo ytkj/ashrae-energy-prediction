{
 "cells": [
  {
   "cell_type": "code",
   "execution_count": 5,
   "metadata": {},
   "outputs": [],
   "source": [
    "from typing import Dict"
   ]
  },
  {
   "cell_type": "code",
   "execution_count": 17,
   "metadata": {},
   "outputs": [],
   "source": [
    "import numpy as np\n",
    "import pandas as pd\n",
    "import xgboost as xgb\n",
    "from sklearn.ensemble import RandomForestRegressor\n",
    "from sklearn.model_selection import train_test_split, GridSearchCV\n",
    "from sklearn.metrics import mean_squared_error, make_scorer\n",
    "import joblib\n",
    "import mlflow"
   ]
  },
  {
   "cell_type": "code",
   "execution_count": 11,
   "metadata": {},
   "outputs": [],
   "source": [
    "def rmsle(y_true, y_pred) -> float:\n",
    "    pass\n",
    "\n",
    "def rmse(y_true, y_pred) -> float:\n",
    "    return np.sqrt(mean_squared_error(y_true, y_pred))\n",
    "\n",
    "rmse_score = make_scorer(rmse, greater_is_better=False)"
   ]
  },
  {
   "cell_type": "code",
   "execution_count": 23,
   "metadata": {},
   "outputs": [],
   "source": [
    "def add_key_prefix(d: Dict, prefix = 'best_') -> Dict:\n",
    "    return {prefix + key: value for key, value in d.items()}"
   ]
  },
  {
   "cell_type": "code",
   "execution_count": 31,
   "metadata": {},
   "outputs": [],
   "source": [
    "def grid_search(ds: pd.DataFrame):\n",
    "        \n",
    "    y = np.log1p(ds['meter_reading'])\n",
    "    X = ds.iloc[:, 1:].values\n",
    "    \n",
    "    X_train, X_val, y_train, y_val = train_test_split(X, y, test_size=0.2)\n",
    "    \n",
    "    param_grid = dict(\n",
    "        n_estimators=[20, 40, 60, 80, 100],\n",
    "        max_depth=[4, 8, 12, None],\n",
    "        max_features=['auto', 'sqrt'],\n",
    "    )\n",
    "        \n",
    "    mlflow.set_experiment('baseline')\n",
    "    with mlflow.start_run() as run:\n",
    "        \n",
    "        mlflow.log_params(param_grid)\n",
    "        \n",
    "        regressor = GridSearchCV(\n",
    "            RandomForestRegressor(),\n",
    "            param_grid=param_grid,\n",
    "            cv=3,\n",
    "            scoring=rmse_score,\n",
    "            verbose=2,\n",
    "            refit=True,\n",
    "        )\n",
    "\n",
    "        regressor.fit(X_train, y_train)\n",
    "        \n",
    "        best_model = regressor.best_estimator_\n",
    "        best_param = add_key_prefix(regressor.best_params_)\n",
    "        best_rmse = - regressor.best_score_\n",
    "\n",
    "        joblib.dump(best_model, 'out/model.sav')\n",
    "\n",
    "        mlflow.log_params(best_param)\n",
    "        mlflow.log_metrics(dict(\n",
    "            rmse=best_rmse,\n",
    "        ))\n",
    "        mlflow.log_artifact('./out/model.sav')\n",
    "        mlflow.end_run()"
   ]
  },
  {
   "cell_type": "code",
   "execution_count": 14,
   "metadata": {},
   "outputs": [],
   "source": [
    "dataset_train = pd.read_csv('dataset_train.csv')"
   ]
  },
  {
   "cell_type": "code",
   "execution_count": 28,
   "metadata": {
    "scrolled": true
   },
   "outputs": [
    {
     "name": "stdout",
     "output_type": "stream",
     "text": [
      "Fitting 3 folds for each of 8 candidates, totalling 24 fits\n",
      "[CV] max_depth=2, max_features=auto, n_estimators=10 .................\n"
     ]
    },
    {
     "name": "stderr",
     "output_type": "stream",
     "text": [
      "[Parallel(n_jobs=1)]: Using backend SequentialBackend with 1 concurrent workers.\n"
     ]
    },
    {
     "name": "stdout",
     "output_type": "stream",
     "text": [
      "[CV] .. max_depth=2, max_features=auto, n_estimators=10, total=   2.6s\n",
      "[CV] max_depth=2, max_features=auto, n_estimators=10 .................\n"
     ]
    },
    {
     "name": "stderr",
     "output_type": "stream",
     "text": [
      "[Parallel(n_jobs=1)]: Done   1 out of   1 | elapsed:    2.7s remaining:    0.0s\n"
     ]
    },
    {
     "name": "stdout",
     "output_type": "stream",
     "text": [
      "[CV] .. max_depth=2, max_features=auto, n_estimators=10, total=   2.0s\n",
      "[CV] max_depth=2, max_features=auto, n_estimators=10 .................\n",
      "[CV] .. max_depth=2, max_features=auto, n_estimators=10, total=   2.1s\n",
      "[CV] max_depth=2, max_features=auto, n_estimators=20 .................\n",
      "[CV] .. max_depth=2, max_features=auto, n_estimators=20, total=   3.3s\n",
      "[CV] max_depth=2, max_features=auto, n_estimators=20 .................\n",
      "[CV] .. max_depth=2, max_features=auto, n_estimators=20, total=   3.2s\n",
      "[CV] max_depth=2, max_features=auto, n_estimators=20 .................\n",
      "[CV] .. max_depth=2, max_features=auto, n_estimators=20, total=   3.3s\n",
      "[CV] max_depth=2, max_features=sqrt, n_estimators=10 .................\n",
      "[CV] .. max_depth=2, max_features=sqrt, n_estimators=10, total=   0.8s\n",
      "[CV] max_depth=2, max_features=sqrt, n_estimators=10 .................\n",
      "[CV] .. max_depth=2, max_features=sqrt, n_estimators=10, total=   0.9s\n",
      "[CV] max_depth=2, max_features=sqrt, n_estimators=10 .................\n",
      "[CV] .. max_depth=2, max_features=sqrt, n_estimators=10, total=   0.8s\n",
      "[CV] max_depth=2, max_features=sqrt, n_estimators=20 .................\n",
      "[CV] .. max_depth=2, max_features=sqrt, n_estimators=20, total=   1.1s\n",
      "[CV] max_depth=2, max_features=sqrt, n_estimators=20 .................\n",
      "[CV] .. max_depth=2, max_features=sqrt, n_estimators=20, total=   1.1s\n",
      "[CV] max_depth=2, max_features=sqrt, n_estimators=20 .................\n",
      "[CV] .. max_depth=2, max_features=sqrt, n_estimators=20, total=   1.1s\n",
      "[CV] max_depth=4, max_features=auto, n_estimators=10 .................\n",
      "[CV] .. max_depth=4, max_features=auto, n_estimators=10, total=   3.1s\n",
      "[CV] max_depth=4, max_features=auto, n_estimators=10 .................\n",
      "[CV] .. max_depth=4, max_features=auto, n_estimators=10, total=   3.0s\n",
      "[CV] max_depth=4, max_features=auto, n_estimators=10 .................\n",
      "[CV] .. max_depth=4, max_features=auto, n_estimators=10, total=   3.5s\n",
      "[CV] max_depth=4, max_features=auto, n_estimators=20 .................\n",
      "[CV] .. max_depth=4, max_features=auto, n_estimators=20, total=   6.1s\n",
      "[CV] max_depth=4, max_features=auto, n_estimators=20 .................\n",
      "[CV] .. max_depth=4, max_features=auto, n_estimators=20, total=   7.1s\n",
      "[CV] max_depth=4, max_features=auto, n_estimators=20 .................\n",
      "[CV] .. max_depth=4, max_features=auto, n_estimators=20, total=   6.2s\n",
      "[CV] max_depth=4, max_features=sqrt, n_estimators=10 .................\n",
      "[CV] .. max_depth=4, max_features=sqrt, n_estimators=10, total=   1.0s\n",
      "[CV] max_depth=4, max_features=sqrt, n_estimators=10 .................\n",
      "[CV] .. max_depth=4, max_features=sqrt, n_estimators=10, total=   1.1s\n",
      "[CV] max_depth=4, max_features=sqrt, n_estimators=10 .................\n",
      "[CV] .. max_depth=4, max_features=sqrt, n_estimators=10, total=   1.1s\n",
      "[CV] max_depth=4, max_features=sqrt, n_estimators=20 .................\n",
      "[CV] .. max_depth=4, max_features=sqrt, n_estimators=20, total=   1.7s\n",
      "[CV] max_depth=4, max_features=sqrt, n_estimators=20 .................\n",
      "[CV] .. max_depth=4, max_features=sqrt, n_estimators=20, total=   1.8s\n",
      "[CV] max_depth=4, max_features=sqrt, n_estimators=20 .................\n",
      "[CV] .. max_depth=4, max_features=sqrt, n_estimators=20, total=   1.6s\n"
     ]
    },
    {
     "name": "stderr",
     "output_type": "stream",
     "text": [
      "[Parallel(n_jobs=1)]: Done  24 out of  24 | elapsed:  1.0min finished\n"
     ]
    }
   ],
   "source": [
    "grid_search(dataset_train.sample(frac=0.01))"
   ]
  }
 ],
 "metadata": {
  "kernelspec": {
   "display_name": "Python 3",
   "language": "python",
   "name": "python3"
  },
  "language_info": {
   "codemirror_mode": {
    "name": "ipython",
    "version": 3
   },
   "file_extension": ".py",
   "mimetype": "text/x-python",
   "name": "python",
   "nbconvert_exporter": "python",
   "pygments_lexer": "ipython3",
   "version": "3.7.5"
  }
 },
 "nbformat": 4,
 "nbformat_minor": 4
}
