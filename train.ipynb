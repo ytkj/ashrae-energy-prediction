{
 "cells": [
  {
   "cell_type": "code",
   "execution_count": 1,
   "metadata": {},
   "outputs": [],
   "source": [
    "from typing import Dict"
   ]
  },
  {
   "cell_type": "code",
   "execution_count": 2,
   "metadata": {},
   "outputs": [
    {
     "name": "stderr",
     "output_type": "stream",
     "text": [
      "/usr/local/lib/python3.5/site-packages/sklearn/ensemble/weight_boosting.py:29: DeprecationWarning: numpy.core.umath_tests is an internal NumPy module and should not be imported. It will be removed in a future NumPy release.\n",
      "  from numpy.core.umath_tests import inner1d\n"
     ]
    }
   ],
   "source": [
    "import numpy as np\n",
    "import pandas as pd\n",
    "from sklearn.ensemble import RandomForestRegressor\n",
    "from sklearn.model_selection import train_test_split, GridSearchCV\n",
    "from sklearn.metrics import mean_squared_error, make_scorer\n",
    "import joblib\n",
    "import mlflow"
   ]
  },
  {
   "cell_type": "code",
   "execution_count": 3,
   "metadata": {},
   "outputs": [],
   "source": [
    "def rmsle(y_true, y_pred) -> float:\n",
    "    pass\n",
    "\n",
    "def rmse(y_true, y_pred) -> float:\n",
    "    return np.sqrt(mean_squared_error(y_true, y_pred))\n",
    "\n",
    "rmse_score = make_scorer(rmse, greater_is_better=False)"
   ]
  },
  {
   "cell_type": "code",
   "execution_count": 4,
   "metadata": {},
   "outputs": [],
   "source": [
    "def add_key_prefix(d: Dict, prefix = 'best_') -> Dict:\n",
    "    return {prefix + key: value for key, value in d.items()}"
   ]
  },
  {
   "cell_type": "code",
   "execution_count": 5,
   "metadata": {},
   "outputs": [],
   "source": [
    "def grid_search(ds: np.ndarray):\n",
    "    \n",
    "    y = np.log1p(ds[:, 0])\n",
    "    x = ds[:, 1:]\n",
    "    \n",
    "    x_train, x_val, y_train, y_val = train_test_split(x, y, test_size=0.2)\n",
    "    \n",
    "    param_grid = dict(\n",
    "        n_estimators=[10], #, 40, 60, 80, 100],\n",
    "        max_depth=[None], #, 8, 12, None],\n",
    "        max_features=['auto'], #, 'sqrt'],\n",
    "    )\n",
    "        \n",
    "    mlflow.set_experiment('baseline')\n",
    "    with mlflow.start_run() as run:\n",
    "        \n",
    "        mlflow.log_params(param_grid)\n",
    "        \n",
    "        regressor = GridSearchCV(\n",
    "            RandomForestRegressor(),\n",
    "            param_grid=param_grid,\n",
    "            cv=5,\n",
    "            scoring=rmse_score,\n",
    "            verbose=2,\n",
    "            refit=True,\n",
    "            n_jobs=2,\n",
    "        )\n",
    "\n",
    "        regressor.fit(x_train, y_train)\n",
    "        \n",
    "        best_model = regressor.best_estimator_\n",
    "        best_param = add_key_prefix(regressor.best_params_)\n",
    "        best_rmse = - regressor.best_score_\n",
    "\n",
    "        joblib.dump(best_model, 'out/model.sav')\n",
    "        \n",
    "        y_pred_val = best_model.predict(x_val)\n",
    "        rmse_val = rmse(y_val, y_pred_val)\n",
    "\n",
    "        mlflow.log_params(best_param)\n",
    "        mlflow.log_metrics(dict(\n",
    "            rmse=best_rmse,\n",
    "            rmse_val=rmse_val,\n",
    "        ))\n",
    "        mlflow.log_artifact('./out/model.sav')\n",
    "        mlflow.end_run()"
   ]
  },
  {
   "cell_type": "code",
   "execution_count": 6,
   "metadata": {},
   "outputs": [],
   "source": [
    "dataset_train = np.load('dataset_train.npy')"
   ]
  },
  {
   "cell_type": "code",
   "execution_count": null,
   "metadata": {},
   "outputs": [
    {
     "name": "stdout",
     "output_type": "stream",
     "text": [
      "Fitting 5 folds for each of 1 candidates, totalling 5 fits\n",
      "[CV] max_features=auto, max_depth=None, n_estimators=10 ..............\n",
      "[CV] max_features=auto, max_depth=None, n_estimators=10 ..............\n"
     ]
    }
   ],
   "source": [
    "grid_search(dataset_train)"
   ]
  }
 ],
 "metadata": {
  "kernelspec": {
   "display_name": "Python 3",
   "language": "python",
   "name": "python3"
  },
  "language_info": {
   "codemirror_mode": {
    "name": "ipython",
    "version": 3
   },
   "file_extension": ".py",
   "mimetype": "text/x-python",
   "name": "python",
   "nbconvert_exporter": "python",
   "pygments_lexer": "ipython3",
   "version": "3.5.3"
  }
 },
 "nbformat": 4,
 "nbformat_minor": 4
}
