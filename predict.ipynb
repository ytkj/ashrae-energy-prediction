{
 "cells": [
  {
   "cell_type": "code",
   "execution_count": 2,
   "metadata": {},
   "outputs": [],
   "source": [
    "import numpy as np\n",
    "import pandas as pd\n",
    "import mlflow\n",
    "import joblib"
   ]
  },
  {
   "cell_type": "code",
   "execution_count": 17,
   "metadata": {},
   "outputs": [],
   "source": [
    "def load_model(run_id: str = None):\n",
    "    \n",
    "    if run_id is None:\n",
    "        model_path = 'out/model.sav'\n",
    "    else:\n",
    "        mlflow_client = mlflow.tracking.MlflowClient()\n",
    "        model_path = mlflow_client.download_artifacts(run_id, 'model.sav')\n",
    "        \n",
    "    return joblib.load(model_path)"
   ]
  },
  {
   "cell_type": "code",
   "execution_count": 15,
   "metadata": {},
   "outputs": [],
   "source": [
    "def predict(ds: pd.DataFrame, model) -> pd.DataFrame:\n",
    "    x = ds.iloc[:, 1:]\n",
    "    y_log1p = model.predict(x)\n",
    "    y = np.expm1(y_log1p)\n",
    "    return pd.DataFrame({\n",
    "        'row_id': ds['row_id'],\n",
    "        'meter_reading': y,\n",
    "    })"
   ]
  },
  {
   "cell_type": "code",
   "execution_count": 12,
   "metadata": {},
   "outputs": [],
   "source": [
    "model = load_model('a04bd1e7c0c74a78aae6607882acffc8')\n",
    "dataset_test = pd.read_csv('dataset_test.csv').sample(frac=0.01)"
   ]
  },
  {
   "cell_type": "code",
   "execution_count": 16,
   "metadata": {},
   "outputs": [
    {
     "data": {
      "text/html": [
       "<div>\n",
       "<style scoped>\n",
       "    .dataframe tbody tr th:only-of-type {\n",
       "        vertical-align: middle;\n",
       "    }\n",
       "\n",
       "    .dataframe tbody tr th {\n",
       "        vertical-align: top;\n",
       "    }\n",
       "\n",
       "    .dataframe thead th {\n",
       "        text-align: right;\n",
       "    }\n",
       "</style>\n",
       "<table border=\"1\" class=\"dataframe\">\n",
       "  <thead>\n",
       "    <tr style=\"text-align: right;\">\n",
       "      <th></th>\n",
       "      <th>row_id</th>\n",
       "      <th>meter_reading</th>\n",
       "    </tr>\n",
       "  </thead>\n",
       "  <tbody>\n",
       "    <tr>\n",
       "      <td>144202</td>\n",
       "      <td>144202</td>\n",
       "      <td>111.187358</td>\n",
       "    </tr>\n",
       "    <tr>\n",
       "      <td>917342</td>\n",
       "      <td>917342</td>\n",
       "      <td>1419.220513</td>\n",
       "    </tr>\n",
       "    <tr>\n",
       "      <td>1443966</td>\n",
       "      <td>1443966</td>\n",
       "      <td>0.315463</td>\n",
       "    </tr>\n",
       "    <tr>\n",
       "      <td>2240445</td>\n",
       "      <td>2240445</td>\n",
       "      <td>884.425638</td>\n",
       "    </tr>\n",
       "    <tr>\n",
       "      <td>2858716</td>\n",
       "      <td>2858716</td>\n",
       "      <td>29.311737</td>\n",
       "    </tr>\n",
       "    <tr>\n",
       "      <td>...</td>\n",
       "      <td>...</td>\n",
       "      <td>...</td>\n",
       "    </tr>\n",
       "    <tr>\n",
       "      <td>2411286</td>\n",
       "      <td>2411286</td>\n",
       "      <td>0.939451</td>\n",
       "    </tr>\n",
       "    <tr>\n",
       "      <td>4669175</td>\n",
       "      <td>4669175</td>\n",
       "      <td>509.535846</td>\n",
       "    </tr>\n",
       "    <tr>\n",
       "      <td>3581213</td>\n",
       "      <td>3581213</td>\n",
       "      <td>78.535834</td>\n",
       "    </tr>\n",
       "    <tr>\n",
       "      <td>735593</td>\n",
       "      <td>735593</td>\n",
       "      <td>6134.289949</td>\n",
       "    </tr>\n",
       "    <tr>\n",
       "      <td>4998059</td>\n",
       "      <td>4998059</td>\n",
       "      <td>113.820570</td>\n",
       "    </tr>\n",
       "  </tbody>\n",
       "</table>\n",
       "<p>52232 rows × 2 columns</p>\n",
       "</div>"
      ],
      "text/plain": [
       "          row_id  meter_reading\n",
       "144202    144202     111.187358\n",
       "917342    917342    1419.220513\n",
       "1443966  1443966       0.315463\n",
       "2240445  2240445     884.425638\n",
       "2858716  2858716      29.311737\n",
       "...          ...            ...\n",
       "2411286  2411286       0.939451\n",
       "4669175  4669175     509.535846\n",
       "3581213  3581213      78.535834\n",
       "735593    735593    6134.289949\n",
       "4998059  4998059     113.820570\n",
       "\n",
       "[52232 rows x 2 columns]"
      ]
     },
     "execution_count": 16,
     "metadata": {},
     "output_type": "execute_result"
    }
   ],
   "source": [
    "predict(dataset_test, model)"
   ]
  }
 ],
 "metadata": {
  "kernelspec": {
   "display_name": "Python 3",
   "language": "python",
   "name": "python3"
  },
  "language_info": {
   "codemirror_mode": {
    "name": "ipython",
    "version": 3
   },
   "file_extension": ".py",
   "mimetype": "text/x-python",
   "name": "python",
   "nbconvert_exporter": "python",
   "pygments_lexer": "ipython3",
   "version": "3.7.5"
  }
 },
 "nbformat": 4,
 "nbformat_minor": 4
}
